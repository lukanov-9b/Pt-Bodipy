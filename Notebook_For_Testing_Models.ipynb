{
 "cells": [
  {
   "cell_type": "markdown",
   "metadata": {},
   "source": [
    "# Machine learning-aided algorithm to predict absorption maximum wavelength and cytotoxicity of platinum-containing BODIPYs"
   ]
  },
  {
   "cell_type": "code",
   "execution_count": 3,
   "metadata": {},
   "outputs": [],
   "source": [
    "# Importing libraries.\n",
    "import pandas as pd\n",
    "import numpy as np\n",
    "from sklearn.feature_extraction.text import HashingVectorizer\n",
    "from sklearn.compose import ColumnTransformer\n",
    "from catboost import CatBoostRegressor\n",
    "from sklearn.metrics import mean_squared_error\n",
    "import pickle\n",
    "from model_files.classes_imported import GetFgp, GetSolventParams, get_weights\n",
    "from sklearn.neighbors import KNeighborsRegressor\n",
    "from sklearn.preprocessing import OneHotEncoder\n",
    "\n",
    "# Declaring constant values.\n",
    "RANDOM_STATE = 12345\n",
    "TRAINING_DATA_DIRECTORY = 'train_valid_test_sets'"
   ]
  },
  {
   "cell_type": "markdown",
   "metadata": {},
   "source": [
    "## Absorption wavelength prediction."
   ]
  },
  {
   "cell_type": "code",
   "execution_count": 4,
   "metadata": {},
   "outputs": [],
   "source": [
    "# Transformer to get molecular fingerprints and solvent parameters.\n",
    "column_transformer_fgp = ColumnTransformer([('smile_transformer', GetFgp(), 'smiles'),\n",
    "                                            ('solvent_transformer', GetSolventParams(), 'solvent')])\n",
    "\n",
    "# CatBoost regressor with hyperparameters optimized.\n",
    "cat = CatBoostRegressor(logging_level='Silent',\n",
    "                        loss_function='RMSE',\n",
    "                        random_state = RANDOM_STATE,\n",
    "                        learning_rate=0.27,\n",
    "                        depth=4,\n",
    "                        iterations=75,\n",
    "                        l2_leaf_reg=5.5)"
   ]
  },
  {
   "cell_type": "code",
   "execution_count": 5,
   "metadata": {},
   "outputs": [],
   "source": [
    "# Training, validation and test data sets.\n",
    "data_train = pd.read_csv(f'{TRAINING_DATA_DIRECTORY}/absorption/data_train.csv')\n",
    "data_valid = pd.read_csv(f'{TRAINING_DATA_DIRECTORY}/absorption/data_valid.csv')\n",
    "data_test = pd.read_csv(f'{TRAINING_DATA_DIRECTORY}/absorption/data_test.csv')"
   ]
  },
  {
   "cell_type": "code",
   "execution_count": 6,
   "metadata": {},
   "outputs": [],
   "source": [
    "# Getting features and target values for model.\n",
    "def get_features_abd_targets(df:pd.DataFrame) -> tuple[np.array]:\n",
    "    features = column_transformer_fgp.fit_transform(df.drop('absorption', axis=1))\n",
    "    targets = df['absorption']\n",
    "\n",
    "    return features, targets\n",
    "\n",
    "\n",
    "features_train, target_train = get_features_abd_targets(data_train)\n",
    "features_valid, target_valid = get_features_abd_targets(data_valid)\n",
    "features_test, target_test = get_features_abd_targets(data_test)"
   ]
  },
  {
   "cell_type": "code",
   "execution_count": 7,
   "metadata": {},
   "outputs": [
    {
     "data": {
      "text/plain": [
       "<catboost.core.CatBoostRegressor at 0x28ea8bc8910>"
      ]
     },
     "execution_count": 7,
     "metadata": {},
     "output_type": "execute_result"
    }
   ],
   "source": [
    "# Training the model.\n",
    "cat.fit(features_train, target_train)"
   ]
  },
  {
   "cell_type": "code",
   "execution_count": 8,
   "metadata": {},
   "outputs": [
    {
     "name": "stdout",
     "output_type": "stream",
     "text": [
      "RMSE (train) -> 29.9508 nm\n",
      "RMSE (valid) -> 28.9123 nm\n",
      "RMSE (test) -> 38.3005 nm\n"
     ]
    }
   ],
   "source": [
    "# Results on training, validation and test datasets.\n",
    "def get_predictions(model, features, target, df_subset:str) -> None:\n",
    "    prediction = model.predict(features)\n",
    "    rmse = mean_squared_error(target, prediction, squared=False)\n",
    "\n",
    "    print(f'RMSE ({df_subset}) ->', round(rmse, 4), 'nm')\n",
    "\n",
    "\n",
    "get_predictions(cat, features_train, target_train, 'train')\n",
    "get_predictions(cat, features_valid, target_valid, 'valid')\n",
    "get_predictions(cat, features_test, target_test, 'test')"
   ]
  },
  {
   "cell_type": "code",
   "execution_count": 9,
   "metadata": {},
   "outputs": [],
   "source": [
    "# Saving the model.\n",
    "with open('cat_fgp.sav', 'wb') as file:\n",
    "    pickle.dump(cat, file)"
   ]
  },
  {
   "cell_type": "markdown",
   "metadata": {},
   "source": [
    "## $lg(IC_{50})$ prediction."
   ]
  },
  {
   "cell_type": "code",
   "execution_count": 10,
   "metadata": {},
   "outputs": [],
   "source": [
    "# Training, validation and test data sets.\n",
    "features_train_knn, target_train_knn = (\n",
    "                                        pd.read_csv(f'{TRAINING_DATA_DIRECTORY}/ic_50/features_train.csv'),\n",
    "                                        pd.read_csv(f'{TRAINING_DATA_DIRECTORY}/ic_50/target_train.csv')\n",
    "                                        )\n",
    "\n",
    "features_valid_knn, target_valid_knn = (\n",
    "                                        pd.read_csv(f'{TRAINING_DATA_DIRECTORY}/ic_50/features_valid.csv'),\n",
    "                                        pd.read_csv(f'{TRAINING_DATA_DIRECTORY}/ic_50/target_valid.csv')\n",
    "                                        )\n",
    "\n",
    "features_test_knn, target_test_knn = (\n",
    "                                        pd.read_csv(f'{TRAINING_DATA_DIRECTORY}/ic_50/features_test.csv'),\n",
    "                                        pd.read_csv(f'{TRAINING_DATA_DIRECTORY}/ic_50/target_test.csv')\n",
    "                                        )"
   ]
  },
  {
   "cell_type": "code",
   "execution_count": 11,
   "metadata": {},
   "outputs": [],
   "source": [
    "# One Hot Encoding.\n",
    "ohe = OneHotEncoder(drop='first')\n",
    "\n",
    "# Text vectorization.\n",
    "hv = HashingVectorizer(ngram_range=(5,5), \n",
    "                       analyzer='char', \n",
    "                       n_features=32)\n",
    "\n",
    "column_transformer = ColumnTransformer([('smile_transformer', hv, 'smiles'), \n",
    "                                        ('ohe', ohe, ['further_details', 'cell_line'])])\n",
    "\n",
    "# Transforming the data.\n",
    "column_transformer.fit(features_train_knn)\n",
    "\n",
    "for df in ['features_train_knn', 'features_valid_knn', 'features_test_knn']:\n",
    "    globals()[df] = column_transformer.transform(globals()[df])"
   ]
  },
  {
   "cell_type": "code",
   "execution_count": 12,
   "metadata": {},
   "outputs": [
    {
     "data": {
      "text/html": [
       "<style>#sk-container-id-1 {color: black;background-color: white;}#sk-container-id-1 pre{padding: 0;}#sk-container-id-1 div.sk-toggleable {background-color: white;}#sk-container-id-1 label.sk-toggleable__label {cursor: pointer;display: block;width: 100%;margin-bottom: 0;padding: 0.3em;box-sizing: border-box;text-align: center;}#sk-container-id-1 label.sk-toggleable__label-arrow:before {content: \"▸\";float: left;margin-right: 0.25em;color: #696969;}#sk-container-id-1 label.sk-toggleable__label-arrow:hover:before {color: black;}#sk-container-id-1 div.sk-estimator:hover label.sk-toggleable__label-arrow:before {color: black;}#sk-container-id-1 div.sk-toggleable__content {max-height: 0;max-width: 0;overflow: hidden;text-align: left;background-color: #f0f8ff;}#sk-container-id-1 div.sk-toggleable__content pre {margin: 0.2em;color: black;border-radius: 0.25em;background-color: #f0f8ff;}#sk-container-id-1 input.sk-toggleable__control:checked~div.sk-toggleable__content {max-height: 200px;max-width: 100%;overflow: auto;}#sk-container-id-1 input.sk-toggleable__control:checked~label.sk-toggleable__label-arrow:before {content: \"▾\";}#sk-container-id-1 div.sk-estimator input.sk-toggleable__control:checked~label.sk-toggleable__label {background-color: #d4ebff;}#sk-container-id-1 div.sk-label input.sk-toggleable__control:checked~label.sk-toggleable__label {background-color: #d4ebff;}#sk-container-id-1 input.sk-hidden--visually {border: 0;clip: rect(1px 1px 1px 1px);clip: rect(1px, 1px, 1px, 1px);height: 1px;margin: -1px;overflow: hidden;padding: 0;position: absolute;width: 1px;}#sk-container-id-1 div.sk-estimator {font-family: monospace;background-color: #f0f8ff;border: 1px dotted black;border-radius: 0.25em;box-sizing: border-box;margin-bottom: 0.5em;}#sk-container-id-1 div.sk-estimator:hover {background-color: #d4ebff;}#sk-container-id-1 div.sk-parallel-item::after {content: \"\";width: 100%;border-bottom: 1px solid gray;flex-grow: 1;}#sk-container-id-1 div.sk-label:hover label.sk-toggleable__label {background-color: #d4ebff;}#sk-container-id-1 div.sk-serial::before {content: \"\";position: absolute;border-left: 1px solid gray;box-sizing: border-box;top: 0;bottom: 0;left: 50%;z-index: 0;}#sk-container-id-1 div.sk-serial {display: flex;flex-direction: column;align-items: center;background-color: white;padding-right: 0.2em;padding-left: 0.2em;position: relative;}#sk-container-id-1 div.sk-item {position: relative;z-index: 1;}#sk-container-id-1 div.sk-parallel {display: flex;align-items: stretch;justify-content: center;background-color: white;position: relative;}#sk-container-id-1 div.sk-item::before, #sk-container-id-1 div.sk-parallel-item::before {content: \"\";position: absolute;border-left: 1px solid gray;box-sizing: border-box;top: 0;bottom: 0;left: 50%;z-index: -1;}#sk-container-id-1 div.sk-parallel-item {display: flex;flex-direction: column;z-index: 1;position: relative;background-color: white;}#sk-container-id-1 div.sk-parallel-item:first-child::after {align-self: flex-end;width: 50%;}#sk-container-id-1 div.sk-parallel-item:last-child::after {align-self: flex-start;width: 50%;}#sk-container-id-1 div.sk-parallel-item:only-child::after {width: 0;}#sk-container-id-1 div.sk-dashed-wrapped {border: 1px dashed gray;margin: 0 0.4em 0.5em 0.4em;box-sizing: border-box;padding-bottom: 0.4em;background-color: white;}#sk-container-id-1 div.sk-label label {font-family: monospace;font-weight: bold;display: inline-block;line-height: 1.2em;}#sk-container-id-1 div.sk-label-container {text-align: center;}#sk-container-id-1 div.sk-container {/* jupyter's `normalize.less` sets `[hidden] { display: none; }` but bootstrap.min.css set `[hidden] { display: none !important; }` so we also need the `!important` here to be able to override the default hidden behavior on the sphinx rendered scikit-learn.org. See: https://github.com/scikit-learn/scikit-learn/issues/21755 */display: inline-block !important;position: relative;}#sk-container-id-1 div.sk-text-repr-fallback {display: none;}</style><div id=\"sk-container-id-1\" class=\"sk-top-container\"><div class=\"sk-text-repr-fallback\"><pre>KNeighborsRegressor(n_neighbors=4,\n",
       "                    weights=&lt;function get_weights at 0x0000028EA7A6FA30&gt;)</pre><b>In a Jupyter environment, please rerun this cell to show the HTML representation or trust the notebook. <br />On GitHub, the HTML representation is unable to render, please try loading this page with nbviewer.org.</b></div><div class=\"sk-container\" hidden><div class=\"sk-item\"><div class=\"sk-estimator sk-toggleable\"><input class=\"sk-toggleable__control sk-hidden--visually\" id=\"sk-estimator-id-1\" type=\"checkbox\" checked><label for=\"sk-estimator-id-1\" class=\"sk-toggleable__label sk-toggleable__label-arrow\">KNeighborsRegressor</label><div class=\"sk-toggleable__content\"><pre>KNeighborsRegressor(n_neighbors=4,\n",
       "                    weights=&lt;function get_weights at 0x0000028EA7A6FA30&gt;)</pre></div></div></div></div></div>"
      ],
      "text/plain": [
       "KNeighborsRegressor(n_neighbors=4,\n",
       "                    weights=<function get_weights at 0x0000028EA7A6FA30>)"
      ]
     },
     "execution_count": 12,
     "metadata": {},
     "output_type": "execute_result"
    }
   ],
   "source": [
    "# Creating an object of kNN algorithm with hyperparameters optimized.\n",
    "knn = KNeighborsRegressor(n_neighbors=4,\n",
    "                          p=2, \n",
    "                          weights=get_weights)\n",
    "\n",
    "# Training the model.\n",
    "knn.fit(features_train_knn, target_train_knn)"
   ]
  },
  {
   "cell_type": "code",
   "execution_count": 13,
   "metadata": {},
   "outputs": [
    {
     "name": "stdout",
     "output_type": "stream",
     "text": [
      "RMSE (train) -> 0.3682 nm\n",
      "RMSE (valid) -> 0.3909 nm\n",
      "RMSE (test) -> 0.6149 nm\n"
     ]
    }
   ],
   "source": [
    "get_predictions(knn, features_train_knn, target_train_knn, 'train')\n",
    "get_predictions(knn, features_valid_knn, target_valid_knn, 'valid')\n",
    "get_predictions(knn, features_test_knn, target_test_knn, 'test')"
   ]
  },
  {
   "cell_type": "code",
   "execution_count": 14,
   "metadata": {},
   "outputs": [],
   "source": [
    "# Saving the model.\n",
    "with open('knn_model.sav', 'wb') as file:\n",
    "    pickle.dump(knn, file)"
   ]
  }
 ],
 "metadata": {
  "kernelspec": {
   "display_name": "my-rdkit-env",
   "language": "python",
   "name": "python3"
  },
  "language_info": {
   "codemirror_mode": {
    "name": "ipython",
    "version": 3
   },
   "file_extension": ".py",
   "mimetype": "text/x-python",
   "name": "python",
   "nbconvert_exporter": "python",
   "pygments_lexer": "ipython3",
   "version": "3.10.8"
  }
 },
 "nbformat": 4,
 "nbformat_minor": 2
}
